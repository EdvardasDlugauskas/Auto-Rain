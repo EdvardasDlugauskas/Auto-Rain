{
  "nbformat": 4,
  "nbformat_minor": 0,
  "metadata": {
    "colab": {
      "name": "vilniustransportOpenDataAnalysis.ipynb",
      "provenance": [],
      "collapsed_sections": [],
      "toc_visible": true,
      "include_colab_link": true
    },
    "kernelspec": {
      "name": "python3",
      "display_name": "Python 3"
    }
  },
  "cells": [
    {
      "cell_type": "markdown",
      "metadata": {
        "id": "view-in-github",
        "colab_type": "text"
      },
      "source": [
        "<a href=\"https://colab.research.google.com/github/EdvardasDlugauskas/Auto-Rain/blob/master/vilniustransportOpenDataAnalysis.ipynb\" target=\"_parent\"><img src=\"https://colab.research.google.com/assets/colab-badge.svg\" alt=\"Open In Colab\"/></a>"
      ]
    },
    {
      "cell_type": "markdown",
      "metadata": {
        "id": "r1i2UI4BwtRU",
        "colab_type": "text"
      },
      "source": [
        "# **Importing all libraries**"
      ]
    },
    {
      "cell_type": "code",
      "metadata": {
        "id": "YyQ2VtgOwoa5",
        "colab_type": "code",
        "colab": {}
      },
      "source": [
        "from os import listdir, path\n",
        "\n",
        "import numpy as np\n",
        "import pandas as pd\n",
        "\n",
        "import torch\n",
        "from torch import nn, optim, autograd, FloatTensor, LongTensor, manual_seed, randperm\n",
        "import torch.nn.functional as F\n",
        "\n",
        "from sklearn import model_selection, preprocessing"
      ],
      "execution_count": 0,
      "outputs": []
    },
    {
      "cell_type": "markdown",
      "metadata": {
        "id": "V5njEcfYqp4x",
        "colab_type": "text"
      },
      "source": [
        "# **Importing data from csv files (pd.read_csv)**\n",
        "\n",
        "add csv files which names is shown in this section\n",
        "\n",
        "Need to have a `VTDeepLearn/data/` folder with CSV data files in your Google Drive (get them from here: [Mega link](https://mega.nz/file/fRxDmYgQ#vOPfSo0OJc51QpK8aTKYuBWZJMp89oszOoCE2m1b50s))."
      ]
    },
    {
      "cell_type": "code",
      "metadata": {
        "id": "RcF1JGkFspEZ",
        "colab_type": "code",
        "outputId": "05ed381f-ddbc-46ce-8068-b2bd44ad2682",
        "colab": {
          "base_uri": "https://localhost:8080/",
          "height": 129
        }
      },
      "source": [
        "from google.colab import drive\n",
        "drive.mount('/content/drive')"
      ],
      "execution_count": 3,
      "outputs": [
        {
          "output_type": "stream",
          "text": [
            "Go to this URL in a browser: https://accounts.google.com/o/oauth2/auth?client_id=947318989803-6bn6qk8qdgf4n4g3pfee6491hc0brc4i.apps.googleusercontent.com&redirect_uri=urn%3aietf%3awg%3aoauth%3a2.0%3aoob&response_type=code&scope=email%20https%3a%2f%2fwww.googleapis.com%2fauth%2fdocs.test%20https%3a%2f%2fwww.googleapis.com%2fauth%2fdrive%20https%3a%2f%2fwww.googleapis.com%2fauth%2fdrive.photos.readonly%20https%3a%2f%2fwww.googleapis.com%2fauth%2fpeopleapi.readonly\n",
            "\n",
            "Enter your authorization code:\n",
            "··········\n",
            "Mounted at /content/drive\n"
          ],
          "name": "stdout"
        }
      ]
    },
    {
      "cell_type": "code",
      "metadata": {
        "id": "ctApmFTbpsAq",
        "colab_type": "code",
        "colab": {
          "base_uri": "https://localhost:8080/",
          "height": 225
        },
        "outputId": "f1c610ca-5bc2-48cb-80ad-3b856010e1b4"
      },
      "source": [
        "DATA_FOLDER_PATH = \"/content/drive/My Drive/VTDeepLearn/data\"\n",
        "file_names = sorted(listdir(DATA_FOLDER_PATH))[:7]\n",
        "dataframes = [pd.read_csv(path.join(DATA_FOLDER_PATH, file)) for file in file_names]\n",
        "all_data = pd.concat(dataframes).reset_index(drop=True)\n",
        "all_data = all_data.drop(columns=['Number'])\n",
        "\n",
        "print(file_names)\n",
        "all_data.head()"
      ],
      "execution_count": 180,
      "outputs": [
        {
          "output_type": "stream",
          "text": [
            "['2016-04-25.csv', '2016-04-26.csv', '2016-04-27.csv', '2016-04-28.csv', '2016-04-29.csv', '2016-04-30.csv', '2016-05-01.csv']\n"
          ],
          "name": "stdout"
        },
        {
          "output_type": "execute_result",
          "data": {
            "text/html": [
              "<div>\n",
              "<style scoped>\n",
              "    .dataframe tbody tr th:only-of-type {\n",
              "        vertical-align: middle;\n",
              "    }\n",
              "\n",
              "    .dataframe tbody tr th {\n",
              "        vertical-align: top;\n",
              "    }\n",
              "\n",
              "    .dataframe thead th {\n",
              "        text-align: right;\n",
              "    }\n",
              "</style>\n",
              "<table border=\"1\" class=\"dataframe\">\n",
              "  <thead>\n",
              "    <tr style=\"text-align: right;\">\n",
              "      <th></th>\n",
              "      <th>TransportType</th>\n",
              "      <th>StartStop</th>\n",
              "      <th>EndStop</th>\n",
              "      <th>ScheduledDeparture</th>\n",
              "      <th>ActualDeparture</th>\n",
              "      <th>ScheduledArrival</th>\n",
              "      <th>ActualArrival</th>\n",
              "      <th>IsHoliday</th>\n",
              "    </tr>\n",
              "  </thead>\n",
              "  <tbody>\n",
              "    <tr>\n",
              "      <th>0</th>\n",
              "      <td>BUS</td>\n",
              "      <td>„Sparta“</td>\n",
              "      <td>Naujininkai</td>\n",
              "      <td>328</td>\n",
              "      <td>331</td>\n",
              "      <td>344</td>\n",
              "      <td>347</td>\n",
              "      <td>False</td>\n",
              "    </tr>\n",
              "    <tr>\n",
              "      <th>1</th>\n",
              "      <td>BUS</td>\n",
              "      <td>Naujininkai</td>\n",
              "      <td>Dariaus ir Girėno st.</td>\n",
              "      <td>346</td>\n",
              "      <td>351</td>\n",
              "      <td>361</td>\n",
              "      <td>364</td>\n",
              "      <td>False</td>\n",
              "    </tr>\n",
              "    <tr>\n",
              "      <th>2</th>\n",
              "      <td>BUS</td>\n",
              "      <td>„Sparta“</td>\n",
              "      <td>Stotis</td>\n",
              "      <td>367</td>\n",
              "      <td>367</td>\n",
              "      <td>385</td>\n",
              "      <td>384</td>\n",
              "      <td>False</td>\n",
              "    </tr>\n",
              "    <tr>\n",
              "      <th>3</th>\n",
              "      <td>BUS</td>\n",
              "      <td>„Sparta“</td>\n",
              "      <td>Dariaus ir Girėno st.</td>\n",
              "      <td>387</td>\n",
              "      <td>388</td>\n",
              "      <td>404</td>\n",
              "      <td>403</td>\n",
              "      <td>False</td>\n",
              "    </tr>\n",
              "    <tr>\n",
              "      <th>4</th>\n",
              "      <td>BUS</td>\n",
              "      <td>Prūsų st.</td>\n",
              "      <td>Felikso Vaitkaus st.</td>\n",
              "      <td>415</td>\n",
              "      <td>415</td>\n",
              "      <td>434</td>\n",
              "      <td>434</td>\n",
              "      <td>False</td>\n",
              "    </tr>\n",
              "  </tbody>\n",
              "</table>\n",
              "</div>"
            ],
            "text/plain": [
              "  TransportType    StartStop  ... ActualArrival  IsHoliday\n",
              "0           BUS     „Sparta“  ...           347      False\n",
              "1           BUS  Naujininkai  ...           364      False\n",
              "2           BUS     „Sparta“  ...           384      False\n",
              "3           BUS     „Sparta“  ...           403      False\n",
              "4           BUS    Prūsų st.  ...           434      False\n",
              "\n",
              "[5 rows x 8 columns]"
            ]
          },
          "metadata": {
            "tags": []
          },
          "execution_count": 180
        }
      ]
    },
    {
      "cell_type": "markdown",
      "metadata": {
        "id": "_r1_YfCX--LS",
        "colab_type": "text"
      },
      "source": [
        "## Format data\n",
        "\n",
        "Turn False/True to 0/1\n",
        "\n",
        "Turn stop names into integers\n",
        "\n",
        "Normalize time minute values\n",
        "\n",
        "Turn transport type into classes"
      ]
    },
    {
      "cell_type": "code",
      "metadata": {
        "id": "RcdMEqyF99Dy",
        "colab_type": "code",
        "colab": {}
      },
      "source": [
        "unique_stop_names = pd.Series(pd.concat([all_data['StartStop'], all_data['EndStop']]).unique()).reset_index().set_index(0).to_dict()['index']\n",
        "all_data[['StartStop', 'EndStop']] = all_data[['StartStop', 'EndStop']].replace(unique_stop_names)\n",
        "\n",
        "normalize_max = all_data[['ScheduledDeparture', 'ActualDeparture', 'ScheduledArrival', 'ActualArrival']].max().max()\n",
        "all_data[['ScheduledDeparture', 'ActualDeparture', 'ScheduledArrival', 'ActualArrival']] = all_data[['ScheduledDeparture', 'ActualDeparture', 'ScheduledArrival', 'ActualArrival']] / normalize_max;\n",
        "\n",
        "max_cat = max(unique_stop_names.values())\n",
        "all_data['TransportType'] = all_data['TransportType'].replace({\"BUS\": max_cat + 1, \"EXP_BUS\": max_cat + 2, \"TROL\": max_cat + 3})\n",
        "all_data['IsHoliday'] = all_data['IsHoliday'].replace({False: max_cat + 4, True: max_cat + 5})\n",
        "max_cat = max_cat + 5;\n"
      ],
      "execution_count": 0,
      "outputs": []
    },
    {
      "cell_type": "code",
      "metadata": {
        "id": "yZljmIW4_N3O",
        "colab_type": "code",
        "colab": {
          "base_uri": "https://localhost:8080/",
          "height": 206
        },
        "outputId": "202bf361-b006-4f3e-dea6-e8271202f969"
      },
      "source": [
        "all_data.head()"
      ],
      "execution_count": 183,
      "outputs": [
        {
          "output_type": "execute_result",
          "data": {
            "text/html": [
              "<div>\n",
              "<style scoped>\n",
              "    .dataframe tbody tr th:only-of-type {\n",
              "        vertical-align: middle;\n",
              "    }\n",
              "\n",
              "    .dataframe tbody tr th {\n",
              "        vertical-align: top;\n",
              "    }\n",
              "\n",
              "    .dataframe thead th {\n",
              "        text-align: right;\n",
              "    }\n",
              "</style>\n",
              "<table border=\"1\" class=\"dataframe\">\n",
              "  <thead>\n",
              "    <tr style=\"text-align: right;\">\n",
              "      <th></th>\n",
              "      <th>TransportType</th>\n",
              "      <th>StartStop</th>\n",
              "      <th>EndStop</th>\n",
              "      <th>ScheduledDeparture</th>\n",
              "      <th>ActualDeparture</th>\n",
              "      <th>ScheduledArrival</th>\n",
              "      <th>ActualArrival</th>\n",
              "      <th>IsHoliday</th>\n",
              "    </tr>\n",
              "  </thead>\n",
              "  <tbody>\n",
              "    <tr>\n",
              "      <th>0</th>\n",
              "      <td>611</td>\n",
              "      <td>0</td>\n",
              "      <td>1</td>\n",
              "      <td>0.198307</td>\n",
              "      <td>0.200121</td>\n",
              "      <td>0.207981</td>\n",
              "      <td>0.209794</td>\n",
              "      <td>614</td>\n",
              "    </tr>\n",
              "    <tr>\n",
              "      <th>1</th>\n",
              "      <td>611</td>\n",
              "      <td>1</td>\n",
              "      <td>268</td>\n",
              "      <td>0.209190</td>\n",
              "      <td>0.212213</td>\n",
              "      <td>0.218259</td>\n",
              "      <td>0.220073</td>\n",
              "      <td>614</td>\n",
              "    </tr>\n",
              "    <tr>\n",
              "      <th>2</th>\n",
              "      <td>611</td>\n",
              "      <td>0</td>\n",
              "      <td>6</td>\n",
              "      <td>0.221886</td>\n",
              "      <td>0.221886</td>\n",
              "      <td>0.232769</td>\n",
              "      <td>0.232164</td>\n",
              "      <td>614</td>\n",
              "    </tr>\n",
              "    <tr>\n",
              "      <th>3</th>\n",
              "      <td>611</td>\n",
              "      <td>0</td>\n",
              "      <td>268</td>\n",
              "      <td>0.233978</td>\n",
              "      <td>0.234583</td>\n",
              "      <td>0.244256</td>\n",
              "      <td>0.243652</td>\n",
              "      <td>614</td>\n",
              "    </tr>\n",
              "    <tr>\n",
              "      <th>4</th>\n",
              "      <td>611</td>\n",
              "      <td>2</td>\n",
              "      <td>3</td>\n",
              "      <td>0.250907</td>\n",
              "      <td>0.250907</td>\n",
              "      <td>0.262394</td>\n",
              "      <td>0.262394</td>\n",
              "      <td>614</td>\n",
              "    </tr>\n",
              "  </tbody>\n",
              "</table>\n",
              "</div>"
            ],
            "text/plain": [
              "   TransportType  StartStop  ...  ActualArrival  IsHoliday\n",
              "0            611          0  ...       0.209794        614\n",
              "1            611          1  ...       0.220073        614\n",
              "2            611          0  ...       0.232164        614\n",
              "3            611          0  ...       0.243652        614\n",
              "4            611          2  ...       0.262394        614\n",
              "\n",
              "[5 rows x 8 columns]"
            ]
          },
          "metadata": {
            "tags": []
          },
          "execution_count": 183
        }
      ]
    },
    {
      "cell_type": "code",
      "metadata": {
        "id": "Mdv9azenw5FR",
        "colab_type": "code",
        "colab": {}
      },
      "source": [
        "cont_test_data = all_data[['ScheduledDeparture', 'ActualDeparture', 'ScheduledArrival']].to_numpy()\n",
        "cat_test_data = all_data[['TransportType', 'StartStop', 'EndStop', 'IsHoliday']].to_numpy()\n",
        "y_test_data = all_data['ActualArrival'].to_numpy().reshape(-1, 1)\n",
        "\n",
        "test_sets = model_selection.train_test_split(cont_test_data, cat_test_data, y_test_data)\n",
        "train_cont, test_cont = map(lambda x: autograd.Variable(FloatTensor(x), requires_grad=True), test_sets[0:2])\n",
        "train_cat, test_cat = map(lambda x: autograd.Variable(LongTensor(x)), test_sets[2:4])\n",
        "train_y, test_y = map(lambda x: autograd.Variable(FloatTensor(x)), test_sets[4:6])"
      ],
      "execution_count": 0,
      "outputs": []
    },
    {
      "cell_type": "code",
      "metadata": {
        "id": "KC1nMFJREneJ",
        "colab_type": "code",
        "colab": {
          "base_uri": "https://localhost:8080/",
          "height": 146
        },
        "outputId": "5a333519-9084-40ec-fad0-fbab276f150b"
      },
      "source": [
        "net = Net()\n",
        "net"
      ],
      "execution_count": 186,
      "outputs": [
        {
          "output_type": "execute_result",
          "data": {
            "text/plain": [
              "Net(\n",
              "  (emb_layer): Embedding(666, 5)\n",
              "  (first_layer): Linear(in_features=8, out_features=20, bias=True)\n",
              "  (second_layer): Linear(in_features=20, out_features=10, bias=True)\n",
              "  (output_layer): Linear(in_features=10, out_features=1, bias=True)\n",
              "  (generic_relu): LeakyReLU(negative_slope=0.01)\n",
              ")"
            ]
          },
          "metadata": {
            "tags": []
          },
          "execution_count": 186
        }
      ]
    },
    {
      "cell_type": "code",
      "metadata": {
        "id": "a9qJ1VfHE09S",
        "colab_type": "code",
        "outputId": "a4f22c0f-827a-42fb-ef40-9d31531ecec0",
        "colab": {
          "base_uri": "https://localhost:8080/",
          "height": 109
        }
      },
      "source": [
        "t = torch.rand(4, 3)\n",
        "print(t)\n",
        "print(t[:, -1])"
      ],
      "execution_count": 217,
      "outputs": [
        {
          "output_type": "stream",
          "text": [
            "tensor([[0.3772, 0.7827, 0.3272],\n",
            "        [0.8305, 0.1772, 0.4494],\n",
            "        [0.8366, 0.8565, 0.8024],\n",
            "        [0.5920, 0.0498, 0.4221]])\n",
            "tensor([0.3272, 0.4494, 0.8024, 0.4221])\n"
          ],
          "name": "stdout"
        }
      ]
    },
    {
      "cell_type": "code",
      "metadata": {
        "id": "pjQLup9K3jex",
        "colab_type": "code",
        "colab": {}
      },
      "source": [
        "class Net(nn.Module):\n",
        "\n",
        "  def __init__(self):\n",
        "\n",
        "    super().__init__()\n",
        "\n",
        "    embed_dict_size = max_cat + 1\n",
        "\n",
        "    embed_dim = 5\n",
        "\n",
        "    # Embedding layer\n",
        "    self.emb_layer = nn.Embedding(embed_dict_size, embed_dim)\n",
        "\n",
        "    # Linear Layers\n",
        "    self.first_layer = nn.Linear(embed_dim + 3, 20);\n",
        "    self.second_layer = nn.Linear(20, 10);\n",
        "    self.output_layer = nn.Linear(10, 1);\n",
        "\n",
        "    self.generic_relu = nn.LeakyReLU();\n",
        "\n",
        "  def forward(self, cont_data, cat_data):\n",
        "    cat_embedded = self.emb_layer(cat_data)\n",
        "\n",
        "    x = self.first_layer(torch.cat([cat_embedded[:, -1, :], cont_data], dim=1))\n",
        "    x = self.generic_relu(x)\n",
        "    \n",
        "    x = self.second_layer(x)\n",
        "    x = self.generic_relu(x)\n",
        "\n",
        "    x = self.output_layer(x)\n",
        "\n",
        "    return x"
      ],
      "execution_count": 0,
      "outputs": []
    },
    {
      "cell_type": "code",
      "metadata": {
        "id": "AgVKyPWIz3ZM",
        "colab_type": "code",
        "outputId": "4cedee53-3ca0-49ac-aa80-6018d50e3cbf",
        "colab": {
          "base_uri": "https://localhost:8080/",
          "height": 1000
        }
      },
      "source": [
        "manual_seed(3)\n",
        "\n",
        "net = Net()\n",
        "\n",
        "optimizer = optim.SGD(net.parameters(), lr=0.1)\n",
        "loss_func = nn.MSELoss()\n",
        "batch_size = train_cont.size()[0] // 20\n",
        "\n",
        "val_loss_history = []\n",
        "train_loss_history = []\n",
        "\n",
        "for epoch in range(5000):\n",
        "    net.train()\n",
        "\n",
        "    data_len = train_cont.size()[0];\n",
        "    permutation = randperm(data_len)\n",
        "\n",
        "    epoch_losses = []\n",
        "    for batch_i in range(0, data_len, batch_size):\n",
        "        indices = permutation[batch_i:batch_i+batch_size]\n",
        "        cont_batch_x = train_cont[indices]\n",
        "        cat_batch_x = train_cat[indices]\n",
        "        batch_y = train_y[indices]\n",
        "\n",
        "        outputs = net(cont_batch_x, cat_batch_x)\n",
        "        loss = loss_func(outputs, batch_y)\n",
        "        \n",
        "        optimizer.zero_grad()\n",
        "        loss.backward()\n",
        "        optimizer.step()\n",
        "\n",
        "        epoch_losses.append(loss.item())\n",
        "    \n",
        "    train_loss_history.append(np.mean(epoch_losses))\n",
        "\n",
        "    net.eval()\n",
        "    y_hat = net(test_cont, test_cat) \n",
        "\n",
        "    val_loss = loss_func(y_hat, test_y).item()\n",
        "    val_loss_history.append(val_loss)\n",
        "\n",
        "    if not epoch % 10:\n",
        "        print(f\"Epoch: {epoch}, loss: {val_loss}\")\n",
        "\n",
        "    \n",
        "\n",
        "\n",
        "print('Finished Training')"
      ],
      "execution_count": 203,
      "outputs": [
        {
          "output_type": "stream",
          "text": [
            "Epoch: 0, loss: 0.03277856111526489\n",
            "Epoch: 10, loss: 0.0033963194582611322\n",
            "Epoch: 20, loss: 0.0001832828129408881\n",
            "Epoch: 30, loss: 0.00013787198986392468\n",
            "Epoch: 40, loss: 0.00010801159078255296\n",
            "Epoch: 50, loss: 7.98785185907036e-05\n",
            "Epoch: 60, loss: 5.6689470511628315e-05\n",
            "Epoch: 70, loss: 4.2657640733523294e-05\n",
            "Epoch: 80, loss: 3.660886432044208e-05\n",
            "Epoch: 90, loss: 3.34377218678128e-05\n",
            "Epoch: 100, loss: 3.1144634704105556e-05\n",
            "Epoch: 110, loss: 2.963621409435291e-05\n",
            "Epoch: 120, loss: 2.857838262571022e-05\n",
            "Epoch: 130, loss: 2.7792335458798334e-05\n",
            "Epoch: 140, loss: 2.7230174964643084e-05\n",
            "Epoch: 150, loss: 2.67877803707961e-05\n",
            "Epoch: 160, loss: 2.646006760187447e-05\n",
            "Epoch: 170, loss: 2.6213059754809365e-05\n",
            "Epoch: 180, loss: 2.6021576559287496e-05\n",
            "Epoch: 190, loss: 2.5878329324768856e-05\n",
            "Epoch: 200, loss: 2.5789146093302406e-05\n",
            "Epoch: 210, loss: 2.571606819401495e-05\n",
            "Epoch: 220, loss: 2.563503585406579e-05\n",
            "Epoch: 230, loss: 2.5569868739694357e-05\n",
            "Epoch: 240, loss: 2.5508807084406726e-05\n",
            "Epoch: 250, loss: 2.5621860913815908e-05\n",
            "Epoch: 260, loss: 2.543591290304903e-05\n",
            "Epoch: 270, loss: 2.5409213776583783e-05\n",
            "Epoch: 280, loss: 2.5368040951434523e-05\n",
            "Epoch: 290, loss: 2.5352728698635474e-05\n",
            "Epoch: 300, loss: 2.5340672436868772e-05\n",
            "Epoch: 310, loss: 2.527900505810976e-05\n",
            "Epoch: 320, loss: 2.5290522899013013e-05\n",
            "Epoch: 330, loss: 2.524672163417563e-05\n",
            "Epoch: 340, loss: 2.5196237402269617e-05\n",
            "Epoch: 350, loss: 2.516343920433428e-05\n",
            "Epoch: 360, loss: 2.5145553081529215e-05\n",
            "Epoch: 370, loss: 2.510894410079345e-05\n",
            "Epoch: 380, loss: 2.5073792130569927e-05\n",
            "Epoch: 390, loss: 2.5084787921514362e-05\n",
            "Epoch: 400, loss: 2.50118082476547e-05\n",
            "Epoch: 410, loss: 2.4983308321679942e-05\n",
            "Epoch: 420, loss: 2.494684849807527e-05\n",
            "Epoch: 430, loss: 2.491452505637426e-05\n",
            "Epoch: 440, loss: 2.488365862518549e-05\n",
            "Epoch: 450, loss: 2.4882847355911508e-05\n",
            "Epoch: 460, loss: 2.4866130843292922e-05\n",
            "Epoch: 470, loss: 2.4792478143353947e-05\n",
            "Epoch: 480, loss: 2.4765877242316492e-05\n",
            "Epoch: 490, loss: 2.4751130695221946e-05\n",
            "Epoch: 500, loss: 2.481122464814689e-05\n",
            "Epoch: 510, loss: 2.4718658096389845e-05\n",
            "Epoch: 520, loss: 2.46662584686419e-05\n",
            "Epoch: 530, loss: 2.4666223907843232e-05\n",
            "Epoch: 540, loss: 2.4754663172643632e-05\n",
            "Epoch: 550, loss: 2.4601953555247746e-05\n",
            "Epoch: 560, loss: 2.4585227947682142e-05\n",
            "Epoch: 570, loss: 2.4551378373871557e-05\n",
            "Epoch: 580, loss: 2.4529550501029007e-05\n",
            "Epoch: 590, loss: 2.4506500267307274e-05\n",
            "Epoch: 600, loss: 2.4483617380610667e-05\n",
            "Epoch: 610, loss: 2.446068356221076e-05\n",
            "Epoch: 620, loss: 2.443983430566732e-05\n",
            "Epoch: 630, loss: 2.442086042719893e-05\n",
            "Epoch: 640, loss: 2.439258787489962e-05\n",
            "Epoch: 650, loss: 2.4375513021368533e-05\n",
            "Epoch: 660, loss: 2.4367527657886967e-05\n",
            "Epoch: 670, loss: 2.4327935534529388e-05\n",
            "Epoch: 680, loss: 2.4303890313603915e-05\n",
            "Epoch: 690, loss: 2.4282497179228812e-05\n",
            "Epoch: 700, loss: 2.427874096611049e-05\n",
            "Epoch: 710, loss: 2.423729165457189e-05\n",
            "Epoch: 720, loss: 2.4214172299252823e-05\n",
            "Epoch: 730, loss: 2.4222643332905136e-05\n",
            "Epoch: 740, loss: 2.4203076463891193e-05\n",
            "Epoch: 750, loss: 2.4164695787476376e-05\n",
            "Epoch: 760, loss: 2.413599031569902e-05\n",
            "Epoch: 770, loss: 2.411085915809963e-05\n",
            "Epoch: 780, loss: 2.410188244539313e-05\n",
            "Epoch: 790, loss: 2.4059983843471855e-05\n",
            "Epoch: 800, loss: 2.4037699404289015e-05\n",
            "Epoch: 810, loss: 2.4032513465499505e-05\n",
            "Epoch: 820, loss: 2.399375443928875e-05\n",
            "Epoch: 830, loss: 2.400043922534678e-05\n",
            "Epoch: 840, loss: 2.3956556105986238e-05\n",
            "Epoch: 850, loss: 2.393902286712546e-05\n",
            "Epoch: 860, loss: 2.3908502043923363e-05\n",
            "Epoch: 870, loss: 2.3885932023404166e-05\n",
            "Epoch: 880, loss: 2.3877337298472412e-05\n",
            "Epoch: 890, loss: 2.3846334443078376e-05\n",
            "Epoch: 900, loss: 2.382074308115989e-05\n",
            "Epoch: 910, loss: 2.3804115699022077e-05\n",
            "Epoch: 920, loss: 2.3796364985173568e-05\n",
            "Epoch: 930, loss: 2.3756105292704888e-05\n",
            "Epoch: 940, loss: 2.3735647118883207e-05\n",
            "Epoch: 950, loss: 2.3724927814328112e-05\n",
            "Epoch: 960, loss: 2.3701184545643628e-05\n",
            "Epoch: 970, loss: 2.3722332116449252e-05\n",
            "Epoch: 980, loss: 2.3649925424251705e-05\n",
            "Epoch: 990, loss: 2.3643195163458586e-05\n",
            "Epoch: 1000, loss: 2.36113464779919e-05\n",
            "Epoch: 1010, loss: 2.361178667342756e-05\n",
            "Epoch: 1020, loss: 2.3698192308074795e-05\n",
            "Epoch: 1030, loss: 2.3545213480247185e-05\n",
            "Epoch: 1040, loss: 2.352675437578e-05\n",
            "Epoch: 1050, loss: 2.35284460359253e-05\n",
            "Epoch: 1060, loss: 2.3575312297907658e-05\n",
            "Epoch: 1070, loss: 2.3496473659179173e-05\n",
            "Epoch: 1080, loss: 2.3453414542018436e-05\n",
            "Epoch: 1090, loss: 2.3417383999913e-05\n",
            "Epoch: 1100, loss: 2.3403332306770608e-05\n",
            "Epoch: 1110, loss: 2.3377415345748886e-05\n",
            "Epoch: 1120, loss: 2.335495810257271e-05\n",
            "Epoch: 1130, loss: 2.333728116354905e-05\n",
            "Epoch: 1140, loss: 2.3313117708312348e-05\n",
            "Epoch: 1150, loss: 2.3307879018830135e-05\n",
            "Epoch: 1160, loss: 2.327153561054729e-05\n",
            "Epoch: 1170, loss: 2.3278700609807856e-05\n",
            "Epoch: 1180, loss: 2.3229940779856406e-05\n",
            "Epoch: 1190, loss: 2.3210281142382883e-05\n",
            "Epoch: 1200, loss: 2.3241276721819304e-05\n",
            "Epoch: 1210, loss: 2.3169053747551516e-05\n",
            "Epoch: 1220, loss: 2.317493454029318e-05\n",
            "Epoch: 1230, loss: 2.3127049644244835e-05\n",
            "Epoch: 1240, loss: 2.3118745957617648e-05\n",
            "Epoch: 1250, loss: 2.3127557142288424e-05\n",
            "Epoch: 1260, loss: 2.306610986124724e-05\n",
            "Epoch: 1270, loss: 2.305967063875869e-05\n",
            "Epoch: 1280, loss: 2.3056250938680023e-05\n",
            "Epoch: 1290, loss: 2.3012307792669162e-05\n",
            "Epoch: 1300, loss: 2.2982252630754374e-05\n",
            "Epoch: 1310, loss: 2.2961270587984473e-05\n",
            "Epoch: 1320, loss: 2.2954634914640337e-05\n",
            "Epoch: 1330, loss: 2.2933401851332746e-05\n",
            "Epoch: 1340, loss: 2.2899790565134026e-05\n",
            "Epoch: 1350, loss: 2.2925212761037983e-05\n",
            "Epoch: 1360, loss: 2.2909187464392744e-05\n",
            "Epoch: 1370, loss: 2.284589754708577e-05\n",
            "Epoch: 1380, loss: 2.2827698558103293e-05\n",
            "Epoch: 1390, loss: 2.2797734345658682e-05\n",
            "Epoch: 1400, loss: 2.2798365534981713e-05\n",
            "Epoch: 1410, loss: 2.286565359099768e-05\n",
            "Epoch: 1420, loss: 2.2771331714466214e-05\n",
            "Epoch: 1430, loss: 2.2717431420460343e-05\n",
            "Epoch: 1440, loss: 2.2698071916238405e-05\n",
            "Epoch: 1450, loss: 2.26841166295344e-05\n",
            "Epoch: 1460, loss: 2.2666208678856492e-05\n",
            "Epoch: 1470, loss: 2.267245508846827e-05\n",
            "Epoch: 1480, loss: 2.2618451112066396e-05\n",
            "Epoch: 1490, loss: 2.264463182655163e-05\n",
            "Epoch: 1500, loss: 2.2605518097407185e-05\n",
            "Epoch: 1510, loss: 2.256769766972866e-05\n",
            "Epoch: 1520, loss: 2.253710408695042e-05\n",
            "Epoch: 1530, loss: 2.2520680431625806e-05\n",
            "Epoch: 1540, loss: 2.2495030862046406e-05\n",
            "Epoch: 1550, loss: 2.247612974315416e-05\n",
            "Epoch: 1560, loss: 2.2455971702584065e-05\n",
            "Epoch: 1570, loss: 2.2445397917181253e-05\n",
            "Epoch: 1580, loss: 2.2448077288572676e-05\n",
            "Epoch: 1590, loss: 2.2396685380954295e-05\n",
            "Epoch: 1600, loss: 2.2376581910066307e-05\n",
            "Epoch: 1610, loss: 2.2355019609676674e-05\n",
            "Epoch: 1620, loss: 2.2350392100634053e-05\n",
            "Epoch: 1630, loss: 2.2361169612850063e-05\n",
            "Epoch: 1640, loss: 2.2300300770439208e-05\n",
            "Epoch: 1650, loss: 2.227543700428214e-05\n",
            "Epoch: 1660, loss: 2.2255288058659062e-05\n",
            "Epoch: 1670, loss: 2.224368290626444e-05\n",
            "Epoch: 1680, loss: 2.228681114502251e-05\n",
            "Epoch: 1690, loss: 2.2196474674274214e-05\n",
            "Epoch: 1700, loss: 2.2209982489584945e-05\n",
            "Epoch: 1710, loss: 2.2214195269043557e-05\n",
            "Epoch: 1720, loss: 2.214417327195406e-05\n",
            "Epoch: 1730, loss: 2.220538772235159e-05\n",
            "Epoch: 1740, loss: 2.20988968067104e-05\n",
            "Epoch: 1750, loss: 2.2077661924413405e-05\n",
            "Epoch: 1760, loss: 2.2066400561016053e-05\n",
            "Epoch: 1770, loss: 2.2039237592252903e-05\n",
            "Epoch: 1780, loss: 2.203283838753123e-05\n",
            "Epoch: 1790, loss: 2.2005684513715096e-05\n",
            "Epoch: 1800, loss: 2.1994947019265965e-05\n",
            "Epoch: 1810, loss: 2.1965464839013293e-05\n",
            "Epoch: 1820, loss: 2.1941392333246768e-05\n",
            "Epoch: 1830, loss: 2.193030195485335e-05\n",
            "Epoch: 1840, loss: 2.191800558648538e-05\n",
            "Epoch: 1850, loss: 2.1883752197027206e-05\n",
            "Epoch: 1860, loss: 2.1882289729546756e-05\n",
            "Epoch: 1870, loss: 2.1857162209926173e-05\n",
            "Epoch: 1880, loss: 2.1836385712958872e-05\n",
            "Epoch: 1890, loss: 2.186329584219493e-05\n",
            "Epoch: 1900, loss: 2.1790730897919275e-05\n",
            "Epoch: 1910, loss: 2.1768928490928374e-05\n",
            "Epoch: 1920, loss: 2.1772344553028233e-05\n",
            "Epoch: 1930, loss: 2.1730253138230182e-05\n",
            "Epoch: 1940, loss: 2.174048131564632e-05\n",
            "Epoch: 1950, loss: 2.18232162296772e-05\n",
            "Epoch: 1960, loss: 2.1717387426178902e-05\n",
            "Epoch: 1970, loss: 2.1654854208463803e-05\n",
            "Epoch: 1980, loss: 2.1634257791447453e-05\n",
            "Epoch: 1990, loss: 2.1620604456984438e-05\n",
            "Epoch: 2000, loss: 2.1629961338476278e-05\n",
            "Epoch: 2010, loss: 2.159136965929065e-05\n",
            "Epoch: 2020, loss: 2.1579184249276295e-05\n",
            "Epoch: 2030, loss: 2.1565665520029142e-05\n",
            "Epoch: 2040, loss: 2.152371234842576e-05\n",
            "Epoch: 2050, loss: 2.1544656192418188e-05\n",
            "Epoch: 2060, loss: 2.1486255718627945e-05\n",
            "Epoch: 2070, loss: 2.1508181816898286e-05\n",
            "Epoch: 2080, loss: 2.1446057871798985e-05\n",
            "Epoch: 2090, loss: 2.1449608539114706e-05\n",
            "Epoch: 2100, loss: 2.1408202883321792e-05\n",
            "Epoch: 2110, loss: 2.1400897821877152e-05\n",
            "Epoch: 2120, loss: 2.1372326955315657e-05\n",
            "Epoch: 2130, loss: 2.1354782802518457e-05\n",
            "Epoch: 2140, loss: 2.133584530383814e-05\n",
            "Epoch: 2150, loss: 2.1343312255339697e-05\n",
            "Epoch: 2160, loss: 2.1300933440215886e-05\n",
            "Epoch: 2170, loss: 2.1278669009916484e-05\n",
            "Epoch: 2180, loss: 2.1259955246932805e-05\n",
            "Epoch: 2190, loss: 2.1246474716463126e-05\n",
            "Epoch: 2200, loss: 2.1229760022833943e-05\n",
            "Epoch: 2210, loss: 2.1213258150964975e-05\n",
            "Epoch: 2220, loss: 2.1187162928981707e-05\n",
            "Epoch: 2230, loss: 2.1170526451896876e-05\n",
            "Epoch: 2240, loss: 2.11533024412347e-05\n",
            "Epoch: 2250, loss: 2.113225855282508e-05\n",
            "Epoch: 2260, loss: 2.115315328410361e-05\n",
            "Epoch: 2270, loss: 2.112343099724967e-05\n",
            "Epoch: 2280, loss: 2.110310560965445e-05\n",
            "Epoch: 2290, loss: 2.1089654183015227e-05\n",
            "Epoch: 2300, loss: 2.105028943333309e-05\n",
            "Epoch: 2310, loss: 2.1060432118247263e-05\n",
            "Epoch: 2320, loss: 2.100488381984178e-05\n",
            "Epoch: 2330, loss: 2.1006781025789678e-05\n",
            "Epoch: 2340, loss: 2.1009640477132052e-05\n",
            "Epoch: 2350, loss: 2.0953173589077778e-05\n",
            "Epoch: 2360, loss: 2.0938316083629616e-05\n",
            "Epoch: 2370, loss: 2.0919920643791556e-05\n",
            "Epoch: 2380, loss: 2.0955494619556703e-05\n",
            "Epoch: 2390, loss: 2.0905939891235903e-05\n",
            "Epoch: 2400, loss: 2.0881885575363412e-05\n",
            "Epoch: 2410, loss: 2.0844239770667627e-05\n",
            "Epoch: 2420, loss: 2.0826893887715414e-05\n",
            "Epoch: 2430, loss: 2.0812740331166424e-05\n",
            "Epoch: 2440, loss: 2.0787603716598824e-05\n",
            "Epoch: 2450, loss: 2.0814642994082533e-05\n",
            "Epoch: 2460, loss: 2.0769230104633607e-05\n",
            "Epoch: 2470, loss: 2.0746991140185855e-05\n",
            "Epoch: 2480, loss: 2.0807852706639096e-05\n",
            "Epoch: 2490, loss: 2.0698727894341573e-05\n",
            "Epoch: 2500, loss: 2.068520370812621e-05\n",
            "Epoch: 2510, loss: 2.066359229502268e-05\n",
            "Epoch: 2520, loss: 2.0646661141654477e-05\n",
            "Epoch: 2530, loss: 2.0636676708818413e-05\n",
            "Epoch: 2540, loss: 2.064440013782587e-05\n",
            "Epoch: 2550, loss: 2.059343933069613e-05\n",
            "Epoch: 2560, loss: 2.0574098016368225e-05\n",
            "Epoch: 2570, loss: 2.0569772459566593e-05\n",
            "Epoch: 2580, loss: 2.0553989088512026e-05\n",
            "Epoch: 2590, loss: 2.0541534468065947e-05\n",
            "Epoch: 2600, loss: 2.0511903130682185e-05\n",
            "Epoch: 2610, loss: 2.0484723791014403e-05\n",
            "Epoch: 2620, loss: 2.0466841306188144e-05\n",
            "Epoch: 2630, loss: 2.046645386144519e-05\n",
            "Epoch: 2640, loss: 2.0431785742403008e-05\n",
            "Epoch: 2650, loss: 2.055181539617479e-05\n",
            "Epoch: 2660, loss: 2.040179788309615e-05\n",
            "Epoch: 2670, loss: 2.038005732174497e-05\n",
            "Epoch: 2680, loss: 2.0373543520690873e-05\n",
            "Epoch: 2690, loss: 2.0353161744424142e-05\n",
            "Epoch: 2700, loss: 2.032835800491739e-05\n",
            "Epoch: 2710, loss: 2.032349948422052e-05\n",
            "Epoch: 2720, loss: 2.0324083379819058e-05\n",
            "Epoch: 2730, loss: 2.0284842321416363e-05\n",
            "Epoch: 2740, loss: 2.0264831618987955e-05\n",
            "Epoch: 2750, loss: 2.024018976953812e-05\n",
            "Epoch: 2760, loss: 2.023790148086846e-05\n",
            "Epoch: 2770, loss: 2.0214767573634163e-05\n",
            "Epoch: 2780, loss: 2.020513784373179e-05\n",
            "Epoch: 2790, loss: 2.0175895770080388e-05\n",
            "Epoch: 2800, loss: 2.0154755475232378e-05\n",
            "Epoch: 2810, loss: 2.0153425793978386e-05\n",
            "Epoch: 2820, loss: 2.0161978682153858e-05\n",
            "Epoch: 2830, loss: 2.010422213061247e-05\n",
            "Epoch: 2840, loss: 2.0095912987017073e-05\n",
            "Epoch: 2850, loss: 2.0112638594582677e-05\n",
            "Epoch: 2860, loss: 2.0064935597474687e-05\n",
            "Epoch: 2870, loss: 2.0038387447129935e-05\n",
            "Epoch: 2880, loss: 2.0023377146571875e-05\n",
            "Epoch: 2890, loss: 2.0010464140796103e-05\n",
            "Epoch: 2900, loss: 2.0045614292030223e-05\n",
            "Epoch: 2910, loss: 1.9977502233814448e-05\n",
            "Epoch: 2920, loss: 1.9987410269095562e-05\n",
            "Epoch: 2930, loss: 1.9962044461863115e-05\n",
            "Epoch: 2940, loss: 1.9917715690098703e-05\n",
            "Epoch: 2950, loss: 1.9918286852771416e-05\n",
            "Epoch: 2960, loss: 1.9890501789632253e-05\n",
            "Epoch: 2970, loss: 1.986590723390691e-05\n",
            "Epoch: 2980, loss: 1.98594898392912e-05\n",
            "Epoch: 2990, loss: 1.9829183656838723e-05\n",
            "Epoch: 3000, loss: 1.9813278413494118e-05\n",
            "Epoch: 3010, loss: 1.9818244254565798e-05\n",
            "Epoch: 3020, loss: 1.9778854039032012e-05\n",
            "Epoch: 3030, loss: 1.9776240151259117e-05\n",
            "Epoch: 3040, loss: 1.9765348042710684e-05\n",
            "Epoch: 3050, loss: 1.9744013115996495e-05\n",
            "Epoch: 3060, loss: 1.972330574062653e-05\n",
            "Epoch: 3070, loss: 1.9695356968441047e-05\n",
            "Epoch: 3080, loss: 1.9794471882050857e-05\n",
            "Epoch: 3090, loss: 1.9662535123643465e-05\n",
            "Epoch: 3100, loss: 1.96492655959446e-05\n"
          ],
          "name": "stdout"
        },
        {
          "output_type": "error",
          "ename": "KeyboardInterrupt",
          "evalue": "ignored",
          "traceback": [
            "\u001b[0;31m---------------------------------------------------------------------------\u001b[0m",
            "\u001b[0;31mKeyboardInterrupt\u001b[0m                         Traceback (most recent call last)",
            "\u001b[0;32m<ipython-input-203-e675d76e5979>\u001b[0m in \u001b[0;36m<module>\u001b[0;34m()\u001b[0m\n\u001b[1;32m     27\u001b[0m \u001b[0;34m\u001b[0m\u001b[0m\n\u001b[1;32m     28\u001b[0m         \u001b[0moptimizer\u001b[0m\u001b[0;34m.\u001b[0m\u001b[0mzero_grad\u001b[0m\u001b[0;34m(\u001b[0m\u001b[0;34m)\u001b[0m\u001b[0;34m\u001b[0m\u001b[0;34m\u001b[0m\u001b[0m\n\u001b[0;32m---> 29\u001b[0;31m         \u001b[0mloss\u001b[0m\u001b[0;34m.\u001b[0m\u001b[0mbackward\u001b[0m\u001b[0;34m(\u001b[0m\u001b[0;34m)\u001b[0m\u001b[0;34m\u001b[0m\u001b[0;34m\u001b[0m\u001b[0m\n\u001b[0m\u001b[1;32m     30\u001b[0m         \u001b[0moptimizer\u001b[0m\u001b[0;34m.\u001b[0m\u001b[0mstep\u001b[0m\u001b[0;34m(\u001b[0m\u001b[0;34m)\u001b[0m\u001b[0;34m\u001b[0m\u001b[0;34m\u001b[0m\u001b[0m\n\u001b[1;32m     31\u001b[0m \u001b[0;34m\u001b[0m\u001b[0m\n",
            "\u001b[0;32m/usr/local/lib/python3.6/dist-packages/torch/tensor.py\u001b[0m in \u001b[0;36mbackward\u001b[0;34m(self, gradient, retain_graph, create_graph)\u001b[0m\n\u001b[1;32m    196\u001b[0m                 \u001b[0mproducts\u001b[0m\u001b[0;34m.\u001b[0m \u001b[0mDefaults\u001b[0m \u001b[0mto\u001b[0m\u001b[0;31m \u001b[0m\u001b[0;31m`\u001b[0m\u001b[0;31m`\u001b[0m\u001b[0;32mFalse\u001b[0m\u001b[0;31m`\u001b[0m\u001b[0;31m`\u001b[0m\u001b[0;34m.\u001b[0m\u001b[0;34m\u001b[0m\u001b[0;34m\u001b[0m\u001b[0m\n\u001b[1;32m    197\u001b[0m         \"\"\"\n\u001b[0;32m--> 198\u001b[0;31m         \u001b[0mtorch\u001b[0m\u001b[0;34m.\u001b[0m\u001b[0mautograd\u001b[0m\u001b[0;34m.\u001b[0m\u001b[0mbackward\u001b[0m\u001b[0;34m(\u001b[0m\u001b[0mself\u001b[0m\u001b[0;34m,\u001b[0m \u001b[0mgradient\u001b[0m\u001b[0;34m,\u001b[0m \u001b[0mretain_graph\u001b[0m\u001b[0;34m,\u001b[0m \u001b[0mcreate_graph\u001b[0m\u001b[0;34m)\u001b[0m\u001b[0;34m\u001b[0m\u001b[0;34m\u001b[0m\u001b[0m\n\u001b[0m\u001b[1;32m    199\u001b[0m \u001b[0;34m\u001b[0m\u001b[0m\n\u001b[1;32m    200\u001b[0m     \u001b[0;32mdef\u001b[0m \u001b[0mregister_hook\u001b[0m\u001b[0;34m(\u001b[0m\u001b[0mself\u001b[0m\u001b[0;34m,\u001b[0m \u001b[0mhook\u001b[0m\u001b[0;34m)\u001b[0m\u001b[0;34m:\u001b[0m\u001b[0;34m\u001b[0m\u001b[0;34m\u001b[0m\u001b[0m\n",
            "\u001b[0;32m/usr/local/lib/python3.6/dist-packages/torch/autograd/__init__.py\u001b[0m in \u001b[0;36mbackward\u001b[0;34m(tensors, grad_tensors, retain_graph, create_graph, grad_variables)\u001b[0m\n\u001b[1;32m     98\u001b[0m     Variable._execution_engine.run_backward(\n\u001b[1;32m     99\u001b[0m         \u001b[0mtensors\u001b[0m\u001b[0;34m,\u001b[0m \u001b[0mgrad_tensors\u001b[0m\u001b[0;34m,\u001b[0m \u001b[0mretain_graph\u001b[0m\u001b[0;34m,\u001b[0m \u001b[0mcreate_graph\u001b[0m\u001b[0;34m,\u001b[0m\u001b[0;34m\u001b[0m\u001b[0;34m\u001b[0m\u001b[0m\n\u001b[0;32m--> 100\u001b[0;31m         allow_unreachable=True)  # allow_unreachable flag\n\u001b[0m\u001b[1;32m    101\u001b[0m \u001b[0;34m\u001b[0m\u001b[0m\n\u001b[1;32m    102\u001b[0m \u001b[0;34m\u001b[0m\u001b[0m\n",
            "\u001b[0;31mKeyboardInterrupt\u001b[0m: "
          ]
        }
      ]
    },
    {
      "cell_type": "markdown",
      "metadata": {
        "id": "-nQQSNb07W0D",
        "colab_type": "text"
      },
      "source": [
        "# Plot"
      ]
    },
    {
      "cell_type": "code",
      "metadata": {
        "id": "GxVoM1c_7Zrf",
        "colab_type": "code",
        "colab": {}
      },
      "source": [
        "from matplotlib import pyplot as plt"
      ],
      "execution_count": 0,
      "outputs": []
    },
    {
      "cell_type": "markdown",
      "metadata": {
        "id": "VbT65jHXk0k6",
        "colab_type": "text"
      },
      "source": [
        "## Train loss vs test loss"
      ]
    },
    {
      "cell_type": "code",
      "metadata": {
        "id": "wJztT-c5k0Cw",
        "colab_type": "code",
        "outputId": "a22e0a74-c5e5-435e-cf1b-7563231915c2",
        "colab": {
          "base_uri": "https://localhost:8080/",
          "height": 313
        }
      },
      "source": [
        "plt.plot(train_loss_history[-100:], c=\"y\"), plt.plot(val_loss_history[-100:], c=\"g\")"
      ],
      "execution_count": 205,
      "outputs": [
        {
          "output_type": "execute_result",
          "data": {
            "text/plain": [
              "([<matplotlib.lines.Line2D at 0x7fbc1c1ea080>],\n",
              " [<matplotlib.lines.Line2D at 0x7fbc1c1ea048>])"
            ]
          },
          "metadata": {
            "tags": []
          },
          "execution_count": 205
        },
        {
          "output_type": "display_data",
          "data": {
            "image/png": "[encoded data removed]",
            "text/plain": [
              "<Figure size 432x288 with 1 Axes>"
            ]
          },
          "metadata": {
            "tags": [],
            "needs_background": "light"
          }
        }
      ]
    },
    {
      "cell_type": "markdown",
      "metadata": {
        "id": "fEWFqIHfk6bR",
        "colab_type": "text"
      },
      "source": [
        "## Final model"
      ]
    },
    {
      "cell_type": "code",
      "metadata": {
        "id": "fq3hPqlf1kBy",
        "colab_type": "code",
        "colab": {}
      },
      "source": [
        "y_hat = net(test_cont, test_cat)"
      ],
      "execution_count": 0,
      "outputs": []
    },
    {
      "cell_type": "code",
      "metadata": {
        "id": "K96ALc3S2nbQ",
        "colab_type": "code",
        "outputId": "c493cdef-001d-4132-b4fe-dfa7a0a19d75",
        "colab": {
          "base_uri": "https://localhost:8080/",
          "height": 302
        }
      },
      "source": [
        "count = 50\n",
        "plt.scatter(range(count),test_y.numpy()[:count], alpha=0.7, c='g'), plt.scatter(range(count), y_hat.detach().numpy()[:count], alpha=0.7, c='r')"
      ],
      "execution_count": 213,
      "outputs": [
        {
          "output_type": "execute_result",
          "data": {
            "text/plain": [
              "(<matplotlib.collections.PathCollection at 0x7fbc1849e748>,\n",
              " <matplotlib.collections.PathCollection at 0x7fbc1849eac8>)"
            ]
          },
          "metadata": {
            "tags": []
          },
          "execution_count": 213
        },
        {
          "output_type": "display_data",
          "data": {
            "image/png": "[encoded data removed]",
            "text/plain": [
              "<Figure size 432x288 with 1 Axes>"
            ]
          },
          "metadata": {
            "tags": [],
            "needs_background": "light"
          }
        }
      ]
    },
    {
      "cell_type": "markdown",
      "metadata": {
        "id": "4Sg7Wx2zly2d",
        "colab_type": "text"
      },
      "source": [
        "# Resources & links\n",
        "\n",
        "https://medium.com/@benjamin.phillips22/simple-regression-with-neural-networks-in-pytorch-313f06910379\n",
        "\n",
        "https://colab.research.google.com/github/pytorch/tutorials/blob/gh-pages/_downloads/cifar10_tutorial.ipynb#scrollTo=RBCa4nG5wJAv\n",
        "\n",
        "https://yashuseth.blog/2018/07/22/pytorch-neural-network-for-tabular-data-with-categorical-embeddings/\n",
        "![alt text](https://yashuseth.files.wordpress.com/2018/07/model1.png)"
      ]
    },
    {
      "cell_type": "code",
      "metadata": {
        "id": "GVQrueTnl43V",
        "colab_type": "code",
        "colab": {}
      },
      "source": [
        ""
      ],
      "execution_count": 0,
      "outputs": []
    },
    {
      "cell_type": "markdown",
      "metadata": {
        "id": "_ggAdWToqPz6",
        "colab_type": "text"
      },
      "source": [
        "Problem: model guessing the same number for all inputs (mean/baseline)\n",
        "\n",
        "Solution: normalize input"
      ]
    },
    {
      "cell_type": "code",
      "metadata": {
        "id": "Dh7BcvdCqZit",
        "colab_type": "code",
        "colab": {}
      },
      "source": [
        ""
      ],
      "execution_count": 0,
      "outputs": []
    }
  ]
}